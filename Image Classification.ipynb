{
 "cells": [
  {
   "cell_type": "code",
   "execution_count": 25,
   "metadata": {},
   "outputs": [],
   "source": [
    "import pandas as pd\n",
    "import matplotlib.pyplot as plt\n",
    "import cv2\n",
    "import os\n",
    "import seaborn as sns\n",
    "import matplotlib.pyplot as plt\n",
    "from skimage.io import imread\n",
    "from skimage.transform import resize\n",
    "import numpy as np\n",
    "from sklearn.model_selection import train_test_split,GridSearchCV\n",
    "from sklearn.linear_model import LogisticRegression\n",
    "from sklearn.metrics import accuracy_score,classification_report,confusion_matrix\n",
    "from sklearn.tree import DecisionTreeClassifier\n",
    "from sklearn.ensemble import RandomForestClassifier\n",
    "from sklearn.svm import SVC\n",
    "from sklearn.neighbors import KNeighborsClassifier\n",
    "from sklearn.naive_bayes import GaussianNB\n",
    "from sklearn.ensemble import AdaBoostClassifier,GradientBoostingClassifier\n",
    "from xgboost.sklearn import XGBClassifier"
   ]
  },
  {
   "cell_type": "code",
   "execution_count": 3,
   "metadata": {},
   "outputs": [],
   "source": [
    "import warnings\n",
    "warnings.filterwarnings('ignore')"
   ]
  },
  {
   "cell_type": "code",
   "execution_count": 4,
   "metadata": {},
   "outputs": [],
   "source": [
    "path=\"dataset\""
   ]
  },
  {
   "cell_type": "code",
   "execution_count": 5,
   "metadata": {},
   "outputs": [],
   "source": [
    "target=[]\n",
    "data=[]\n",
    "image=[]"
   ]
  },
  {
   "cell_type": "markdown",
   "metadata": {},
   "source": [
    "# Preprocessing of Data"
   ]
  },
  {
   "cell_type": "code",
   "execution_count": 6,
   "metadata": {},
   "outputs": [
    {
     "name": "stdout",
     "output_type": "stream",
     "text": [
      "(200, 50, 50, 3)\n",
      "(200,)\n",
      "(200, 7500)\n"
     ]
    }
   ],
   "source": [
    "for dirpath,dirname,filenames in os.walk(path):\n",
    "    for filename in filenames:\n",
    "        category= dirpath[8:]\n",
    "        target.append(category)\n",
    "        img= imread(f'{path}/{category}/{filename}')\n",
    "        img_resize= resize(img,(50,50,3))\n",
    "        data.append(img_resize.flatten())\n",
    "        image.append(img_resize)\n",
    "image= np.array(image)\n",
    "data= np.array(data)\n",
    "target= np.array(target)\n",
    "print(image.shape)\n",
    "print(target.shape)\n",
    "print(data.shape)\n"
   ]
  },
  {
   "cell_type": "markdown",
   "metadata": {},
   "source": [
    "Some images from our dataset-"
   ]
  },
  {
   "cell_type": "code",
   "execution_count": 357,
   "metadata": {},
   "outputs": [
    {
     "name": "stdout",
     "output_type": "stream",
     "text": [
      "Below image is of: cat\n"
     ]
    },
    {
     "data": {
      "image/png": "[encoded data removed]",
      "text/plain": [
       "<Figure size 432x288 with 1 Axes>"
      ]
     },
     "metadata": {
      "needs_background": "light"
     },
     "output_type": "display_data"
    }
   ],
   "source": [
    "plt.imshow(image[5])\n",
    "print('Below image is of:',target[5])"
   ]
  },
  {
   "cell_type": "code",
   "execution_count": 360,
   "metadata": {},
   "outputs": [
    {
     "name": "stdout",
     "output_type": "stream",
     "text": [
      "Below image is of: dog\n"
     ]
    },
    {
     "data": {
      "image/png": "[encoded data removed]",
      "text/plain": [
       "<Figure size 432x288 with 1 Axes>"
      ]
     },
     "metadata": {
      "needs_background": "light"
     },
     "output_type": "display_data"
    }
   ],
   "source": [
    "plt.imshow(image[100])\n",
    "print('Below image is of:',target[100])"
   ]
  },
  {
   "cell_type": "markdown",
   "metadata": {},
   "source": [
    "# Creating DataFrame"
   ]
  },
  {
   "cell_type": "code",
   "execution_count": 7,
   "metadata": {},
   "outputs": [],
   "source": [
    "df= pd.DataFrame(data)\n",
    "df['Target']= target"
   ]
  },
  {
   "cell_type": "code",
   "execution_count": 8,
   "metadata": {},
   "outputs": [
    {
     "data": {
      "text/html": [
       "<div>\n",
       "<style scoped>\n",
       "    .dataframe tbody tr th:only-of-type {\n",
       "        vertical-align: middle;\n",
       "    }\n",
       "\n",
       "    .dataframe tbody tr th {\n",
       "        vertical-align: top;\n",
       "    }\n",
       "\n",
       "    .dataframe thead th {\n",
       "        text-align: right;\n",
       "    }\n",
       "</style>\n",
       "<table border=\"1\" class=\"dataframe\">\n",
       "  <thead>\n",
       "    <tr style=\"text-align: right;\">\n",
       "      <th></th>\n",
       "      <th>0</th>\n",
       "      <th>1</th>\n",
       "      <th>2</th>\n",
       "      <th>3</th>\n",
       "      <th>4</th>\n",
       "      <th>5</th>\n",
       "      <th>6</th>\n",
       "      <th>7</th>\n",
       "      <th>8</th>\n",
       "      <th>9</th>\n",
       "      <th>...</th>\n",
       "      <th>7491</th>\n",
       "      <th>7492</th>\n",
       "      <th>7493</th>\n",
       "      <th>7494</th>\n",
       "      <th>7495</th>\n",
       "      <th>7496</th>\n",
       "      <th>7497</th>\n",
       "      <th>7498</th>\n",
       "      <th>7499</th>\n",
       "      <th>Target</th>\n",
       "    </tr>\n",
       "  </thead>\n",
       "  <tbody>\n",
       "    <tr>\n",
       "      <th>0</th>\n",
       "      <td>0.000000</td>\n",
       "      <td>0.000000</td>\n",
       "      <td>0.000000</td>\n",
       "      <td>0.000000</td>\n",
       "      <td>0.000000</td>\n",
       "      <td>0.000000</td>\n",
       "      <td>0.066667</td>\n",
       "      <td>0.041176</td>\n",
       "      <td>0.015686</td>\n",
       "      <td>0.346667</td>\n",
       "      <td>...</td>\n",
       "      <td>0.084314</td>\n",
       "      <td>0.050980</td>\n",
       "      <td>0.033333</td>\n",
       "      <td>0.000000</td>\n",
       "      <td>0.000000</td>\n",
       "      <td>0.000000</td>\n",
       "      <td>0.000000</td>\n",
       "      <td>0.000000</td>\n",
       "      <td>0.000000</td>\n",
       "      <td>cat</td>\n",
       "    </tr>\n",
       "    <tr>\n",
       "      <th>1</th>\n",
       "      <td>0.483529</td>\n",
       "      <td>0.364706</td>\n",
       "      <td>0.474510</td>\n",
       "      <td>0.462745</td>\n",
       "      <td>0.368627</td>\n",
       "      <td>0.427843</td>\n",
       "      <td>0.419608</td>\n",
       "      <td>0.405098</td>\n",
       "      <td>0.341961</td>\n",
       "      <td>0.392157</td>\n",
       "      <td>...</td>\n",
       "      <td>0.602353</td>\n",
       "      <td>0.534510</td>\n",
       "      <td>0.405098</td>\n",
       "      <td>0.565882</td>\n",
       "      <td>0.491255</td>\n",
       "      <td>0.350078</td>\n",
       "      <td>0.541176</td>\n",
       "      <td>0.452157</td>\n",
       "      <td>0.296471</td>\n",
       "      <td>cat</td>\n",
       "    </tr>\n",
       "    <tr>\n",
       "      <th>2</th>\n",
       "      <td>0.623529</td>\n",
       "      <td>0.592157</td>\n",
       "      <td>0.447059</td>\n",
       "      <td>0.635294</td>\n",
       "      <td>0.603922</td>\n",
       "      <td>0.453451</td>\n",
       "      <td>0.643137</td>\n",
       "      <td>0.611765</td>\n",
       "      <td>0.454902</td>\n",
       "      <td>0.650980</td>\n",
       "      <td>...</td>\n",
       "      <td>0.584902</td>\n",
       "      <td>0.593333</td>\n",
       "      <td>0.539804</td>\n",
       "      <td>0.564431</td>\n",
       "      <td>0.565765</td>\n",
       "      <td>0.507059</td>\n",
       "      <td>0.539255</td>\n",
       "      <td>0.541176</td>\n",
       "      <td>0.475686</td>\n",
       "      <td>cat</td>\n",
       "    </tr>\n",
       "    <tr>\n",
       "      <th>3</th>\n",
       "      <td>0.340824</td>\n",
       "      <td>0.401922</td>\n",
       "      <td>0.360431</td>\n",
       "      <td>0.316863</td>\n",
       "      <td>0.390314</td>\n",
       "      <td>0.356078</td>\n",
       "      <td>0.122941</td>\n",
       "      <td>0.195490</td>\n",
       "      <td>0.179804</td>\n",
       "      <td>0.086275</td>\n",
       "      <td>...</td>\n",
       "      <td>0.126863</td>\n",
       "      <td>0.159608</td>\n",
       "      <td>0.176667</td>\n",
       "      <td>0.120118</td>\n",
       "      <td>0.152549</td>\n",
       "      <td>0.168510</td>\n",
       "      <td>0.031725</td>\n",
       "      <td>0.057255</td>\n",
       "      <td>0.078784</td>\n",
       "      <td>cat</td>\n",
       "    </tr>\n",
       "    <tr>\n",
       "      <th>4</th>\n",
       "      <td>0.160784</td>\n",
       "      <td>0.113725</td>\n",
       "      <td>0.115451</td>\n",
       "      <td>0.166667</td>\n",
       "      <td>0.121569</td>\n",
       "      <td>0.125490</td>\n",
       "      <td>0.169098</td>\n",
       "      <td>0.125490</td>\n",
       "      <td>0.129412</td>\n",
       "      <td>0.172549</td>\n",
       "      <td>...</td>\n",
       "      <td>0.484314</td>\n",
       "      <td>0.360549</td>\n",
       "      <td>0.297804</td>\n",
       "      <td>0.466667</td>\n",
       "      <td>0.340941</td>\n",
       "      <td>0.278431</td>\n",
       "      <td>0.454902</td>\n",
       "      <td>0.333333</td>\n",
       "      <td>0.274275</td>\n",
       "      <td>cat</td>\n",
       "    </tr>\n",
       "  </tbody>\n",
       "</table>\n",
       "<p>5 rows × 7501 columns</p>\n",
       "</div>"
      ],
      "text/plain": [
       "          0         1         2         3         4         5         6  \\\n",
       "0  0.000000  0.000000  0.000000  0.000000  0.000000  0.000000  0.066667   \n",
       "1  0.483529  0.364706  0.474510  0.462745  0.368627  0.427843  0.419608   \n",
       "2  0.623529  0.592157  0.447059  0.635294  0.603922  0.453451  0.643137   \n",
       "3  0.340824  0.401922  0.360431  0.316863  0.390314  0.356078  0.122941   \n",
       "4  0.160784  0.113725  0.115451  0.166667  0.121569  0.125490  0.169098   \n",
       "\n",
       "          7         8         9  ...      7491      7492      7493      7494  \\\n",
       "0  0.041176  0.015686  0.346667  ...  0.084314  0.050980  0.033333  0.000000   \n",
       "1  0.405098  0.341961  0.392157  ...  0.602353  0.534510  0.405098  0.565882   \n",
       "2  0.611765  0.454902  0.650980  ...  0.584902  0.593333  0.539804  0.564431   \n",
       "3  0.195490  0.179804  0.086275  ...  0.126863  0.159608  0.176667  0.120118   \n",
       "4  0.125490  0.129412  0.172549  ...  0.484314  0.360549  0.297804  0.466667   \n",
       "\n",
       "       7495      7496      7497      7498      7499  Target  \n",
       "0  0.000000  0.000000  0.000000  0.000000  0.000000     cat  \n",
       "1  0.491255  0.350078  0.541176  0.452157  0.296471     cat  \n",
       "2  0.565765  0.507059  0.539255  0.541176  0.475686     cat  \n",
       "3  0.152549  0.168510  0.031725  0.057255  0.078784     cat  \n",
       "4  0.340941  0.278431  0.454902  0.333333  0.274275     cat  \n",
       "\n",
       "[5 rows x 7501 columns]"
      ]
     },
     "execution_count": 8,
     "metadata": {},
     "output_type": "execute_result"
    }
   ],
   "source": [
    "df.head()"
   ]
  },
  {
   "cell_type": "code",
   "execution_count": 243,
   "metadata": {},
   "outputs": [
    {
     "data": {
      "text/plain": [
       "(200, 7501)"
      ]
     },
     "execution_count": 243,
     "metadata": {},
     "output_type": "execute_result"
    }
   ],
   "source": [
    "df.shape"
   ]
  },
  {
   "cell_type": "code",
   "execution_count": 9,
   "metadata": {},
   "outputs": [],
   "source": [
    "x= df.iloc[:,0:7500].values\n",
    "y= df.iloc[:,7500].values"
   ]
  },
  {
   "cell_type": "code",
   "execution_count": 52,
   "metadata": {},
   "outputs": [],
   "source": [
    "train_x,test_x,train_y,test_y= train_test_split(x,y,test_size=0.3,random_state=100)"
   ]
  },
  {
   "cell_type": "code",
   "execution_count": 53,
   "metadata": {},
   "outputs": [
    {
     "name": "stdout",
     "output_type": "stream",
     "text": [
      "Length of training data: 140\n",
      "Length of testing data: 60\n"
     ]
    }
   ],
   "source": [
    "print('Length of training data:',len(train_x))\n",
    "print('Length of testing data:',len(test_x))"
   ]
  },
  {
   "cell_type": "markdown",
   "metadata": {},
   "source": [
    "# Checking models-"
   ]
  },
  {
   "cell_type": "markdown",
   "metadata": {},
   "source": [
    "1. Logistic Regression"
   ]
  },
  {
   "cell_type": "code",
   "execution_count": 54,
   "metadata": {},
   "outputs": [
    {
     "data": {
      "text/plain": [
       "LogisticRegression()"
      ]
     },
     "execution_count": 54,
     "metadata": {},
     "output_type": "execute_result"
    }
   ],
   "source": [
    "model_1= LogisticRegression()\n",
    "model_1.fit(train_x,train_y)"
   ]
  },
  {
   "cell_type": "code",
   "execution_count": 55,
   "metadata": {},
   "outputs": [
    {
     "data": {
      "text/plain": [
       "GridSearchCV(cv=5, estimator=LogisticRegression(),\n",
       "             param_grid={'C': [0.01, 0.001, 0.1, 1.0, 10, 100]})"
      ]
     },
     "execution_count": 55,
     "metadata": {},
     "output_type": "execute_result"
    }
   ],
   "source": [
    "params_log={'C':[0.01,0.001,0.1,1.0,10,100]}\n",
    "grid_log= GridSearchCV(model_1,params_log,cv=5)\n",
    "grid_log.fit(train_x,train_y)"
   ]
  },
  {
   "cell_type": "code",
   "execution_count": 61,
   "metadata": {},
   "outputs": [
    {
     "name": "stdout",
     "output_type": "stream",
     "text": [
      "Best score using gridsearchcv: 0.6\n"
     ]
    }
   ],
   "source": [
    "print(\"Best score using gridsearchcv:\",grid_log.best_score_)"
   ]
  },
  {
   "cell_type": "code",
   "execution_count": 57,
   "metadata": {},
   "outputs": [
    {
     "name": "stdout",
     "output_type": "stream",
     "text": [
      "Predicted values using logistic regression-\n"
     ]
    },
    {
     "data": {
      "text/plain": [
       "array(['cat', 'dog', 'dog', 'dog', 'cat', 'dog', 'dog', 'cat', 'dog',\n",
       "       'cat', 'cat', 'dog', 'dog', 'dog', 'dog', 'dog', 'cat', 'cat',\n",
       "       'dog', 'cat', 'cat', 'dog', 'dog', 'dog', 'dog', 'dog', 'dog',\n",
       "       'cat', 'dog', 'dog', 'dog', 'cat', 'dog', 'dog', 'cat', 'cat',\n",
       "       'dog', 'dog', 'cat', 'cat', 'dog', 'dog', 'dog', 'dog', 'cat',\n",
       "       'dog', 'cat', 'cat', 'dog', 'dog', 'cat', 'dog', 'dog', 'cat',\n",
       "       'cat', 'cat', 'cat', 'dog', 'dog', 'dog'], dtype=object)"
      ]
     },
     "execution_count": 57,
     "metadata": {},
     "output_type": "execute_result"
    }
   ],
   "source": [
    "y_pred= model_1.predict(test_x)\n",
    "print('Predicted values using logistic regression-')\n",
    "y_pred"
   ]
  },
  {
   "cell_type": "code",
   "execution_count": 59,
   "metadata": {},
   "outputs": [
    {
     "name": "stdout",
     "output_type": "stream",
     "text": [
      "accuracy score for logistic regression on testing data: 0.7\n"
     ]
    }
   ],
   "source": [
    "print('accuracy score for logistic regression on testing data:',accuracy_score(test_y,y_pred))"
   ]
  },
  {
   "cell_type": "markdown",
   "metadata": {},
   "source": [
    "2. SVC"
   ]
  },
  {
   "cell_type": "code",
   "execution_count": 35,
   "metadata": {},
   "outputs": [
    {
     "data": {
      "text/plain": [
       "GridSearchCV(cv=5, estimator=SVC(),\n",
       "             param_grid={'C': [1, 10, 100], 'gamma': [0.01, 0.001],\n",
       "                         'kernel': ['rbf', 'linear', 'polynomial']})"
      ]
     },
     "execution_count": 35,
     "metadata": {},
     "output_type": "execute_result"
    }
   ],
   "source": [
    "model_2= SVC()\n",
    "params= {'C':[1,10,100],'kernel':['rbf','linear','polynomial'],'gamma':[0.01,0.001]}\n",
    "grid= GridSearchCV(model_2,params,cv=5)\n",
    "grid.fit(train_x,train_y)"
   ]
  },
  {
   "cell_type": "code",
   "execution_count": 333,
   "metadata": {},
   "outputs": [
    {
     "data": {
      "text/html": [
       "<div>\n",
       "<style scoped>\n",
       "    .dataframe tbody tr th:only-of-type {\n",
       "        vertical-align: middle;\n",
       "    }\n",
       "\n",
       "    .dataframe tbody tr th {\n",
       "        vertical-align: top;\n",
       "    }\n",
       "\n",
       "    .dataframe thead th {\n",
       "        text-align: right;\n",
       "    }\n",
       "</style>\n",
       "<table border=\"1\" class=\"dataframe\">\n",
       "  <thead>\n",
       "    <tr style=\"text-align: right;\">\n",
       "      <th></th>\n",
       "      <th>mean_fit_time</th>\n",
       "      <th>std_fit_time</th>\n",
       "      <th>mean_score_time</th>\n",
       "      <th>std_score_time</th>\n",
       "      <th>param_C</th>\n",
       "      <th>param_gamma</th>\n",
       "      <th>param_kernel</th>\n",
       "      <th>params</th>\n",
       "      <th>split0_test_score</th>\n",
       "      <th>split1_test_score</th>\n",
       "      <th>split2_test_score</th>\n",
       "      <th>split3_test_score</th>\n",
       "      <th>split4_test_score</th>\n",
       "      <th>mean_test_score</th>\n",
       "      <th>std_test_score</th>\n",
       "      <th>rank_test_score</th>\n",
       "    </tr>\n",
       "  </thead>\n",
       "  <tbody>\n",
       "    <tr>\n",
       "      <th>0</th>\n",
       "      <td>0.16536</td>\n",
       "      <td>1.248004e-02</td>\n",
       "      <td>0.03744</td>\n",
       "      <td>7.642469e-03</td>\n",
       "      <td>1</td>\n",
       "      <td>0.01</td>\n",
       "      <td>rbf</td>\n",
       "      <td>{'C': 1, 'gamma': 0.01, 'kernel': 'rbf'}</td>\n",
       "      <td>0.535714</td>\n",
       "      <td>0.571429</td>\n",
       "      <td>0.571429</td>\n",
       "      <td>0.571429</td>\n",
       "      <td>0.571429</td>\n",
       "      <td>0.564286</td>\n",
       "      <td>0.014286</td>\n",
       "      <td>2</td>\n",
       "    </tr>\n",
       "    <tr>\n",
       "      <th>1</th>\n",
       "      <td>0.14976</td>\n",
       "      <td>1.247994e-02</td>\n",
       "      <td>0.03432</td>\n",
       "      <td>6.239986e-03</td>\n",
       "      <td>1</td>\n",
       "      <td>0.01</td>\n",
       "      <td>linear</td>\n",
       "      <td>{'C': 1, 'gamma': 0.01, 'kernel': 'linear'}</td>\n",
       "      <td>0.535714</td>\n",
       "      <td>0.535714</td>\n",
       "      <td>0.535714</td>\n",
       "      <td>0.535714</td>\n",
       "      <td>0.535714</td>\n",
       "      <td>0.535714</td>\n",
       "      <td>0.000000</td>\n",
       "      <td>7</td>\n",
       "    </tr>\n",
       "    <tr>\n",
       "      <th>2</th>\n",
       "      <td>0.00624</td>\n",
       "      <td>7.642391e-03</td>\n",
       "      <td>0.00000</td>\n",
       "      <td>0.000000e+00</td>\n",
       "      <td>1</td>\n",
       "      <td>0.01</td>\n",
       "      <td>polynomial</td>\n",
       "      <td>{'C': 1, 'gamma': 0.01, 'kernel': 'polynomial'}</td>\n",
       "      <td>NaN</td>\n",
       "      <td>NaN</td>\n",
       "      <td>NaN</td>\n",
       "      <td>NaN</td>\n",
       "      <td>NaN</td>\n",
       "      <td>NaN</td>\n",
       "      <td>NaN</td>\n",
       "      <td>16</td>\n",
       "    </tr>\n",
       "    <tr>\n",
       "      <th>3</th>\n",
       "      <td>0.15600</td>\n",
       "      <td>1.168008e-07</td>\n",
       "      <td>0.04056</td>\n",
       "      <td>7.642411e-03</td>\n",
       "      <td>1</td>\n",
       "      <td>0.001</td>\n",
       "      <td>rbf</td>\n",
       "      <td>{'C': 1, 'gamma': 0.001, 'kernel': 'rbf'}</td>\n",
       "      <td>0.500000</td>\n",
       "      <td>0.642857</td>\n",
       "      <td>0.500000</td>\n",
       "      <td>0.642857</td>\n",
       "      <td>0.607143</td>\n",
       "      <td>0.578571</td>\n",
       "      <td>0.065465</td>\n",
       "      <td>1</td>\n",
       "    </tr>\n",
       "    <tr>\n",
       "      <th>4</th>\n",
       "      <td>0.15288</td>\n",
       "      <td>6.240034e-03</td>\n",
       "      <td>0.03120</td>\n",
       "      <td>2.336015e-07</td>\n",
       "      <td>1</td>\n",
       "      <td>0.001</td>\n",
       "      <td>linear</td>\n",
       "      <td>{'C': 1, 'gamma': 0.001, 'kernel': 'linear'}</td>\n",
       "      <td>0.535714</td>\n",
       "      <td>0.535714</td>\n",
       "      <td>0.535714</td>\n",
       "      <td>0.535714</td>\n",
       "      <td>0.535714</td>\n",
       "      <td>0.535714</td>\n",
       "      <td>0.000000</td>\n",
       "      <td>7</td>\n",
       "    </tr>\n",
       "  </tbody>\n",
       "</table>\n",
       "</div>"
      ],
      "text/plain": [
       "   mean_fit_time  std_fit_time  mean_score_time  std_score_time param_C  \\\n",
       "0        0.16536  1.248004e-02          0.03744    7.642469e-03       1   \n",
       "1        0.14976  1.247994e-02          0.03432    6.239986e-03       1   \n",
       "2        0.00624  7.642391e-03          0.00000    0.000000e+00       1   \n",
       "3        0.15600  1.168008e-07          0.04056    7.642411e-03       1   \n",
       "4        0.15288  6.240034e-03          0.03120    2.336015e-07       1   \n",
       "\n",
       "  param_gamma param_kernel                                           params  \\\n",
       "0        0.01          rbf         {'C': 1, 'gamma': 0.01, 'kernel': 'rbf'}   \n",
       "1        0.01       linear      {'C': 1, 'gamma': 0.01, 'kernel': 'linear'}   \n",
       "2        0.01   polynomial  {'C': 1, 'gamma': 0.01, 'kernel': 'polynomial'}   \n",
       "3       0.001          rbf        {'C': 1, 'gamma': 0.001, 'kernel': 'rbf'}   \n",
       "4       0.001       linear     {'C': 1, 'gamma': 0.001, 'kernel': 'linear'}   \n",
       "\n",
       "   split0_test_score  split1_test_score  split2_test_score  split3_test_score  \\\n",
       "0           0.535714           0.571429           0.571429           0.571429   \n",
       "1           0.535714           0.535714           0.535714           0.535714   \n",
       "2                NaN                NaN                NaN                NaN   \n",
       "3           0.500000           0.642857           0.500000           0.642857   \n",
       "4           0.535714           0.535714           0.535714           0.535714   \n",
       "\n",
       "   split4_test_score  mean_test_score  std_test_score  rank_test_score  \n",
       "0           0.571429         0.564286        0.014286                2  \n",
       "1           0.535714         0.535714        0.000000                7  \n",
       "2                NaN              NaN             NaN               16  \n",
       "3           0.607143         0.578571        0.065465                1  \n",
       "4           0.535714         0.535714        0.000000                7  "
      ]
     },
     "execution_count": 333,
     "metadata": {},
     "output_type": "execute_result"
    }
   ],
   "source": [
    "df_svc= pd.DataFrame(grid.cv_results_)\n",
    "df_svc.head()"
   ]
  },
  {
   "cell_type": "code",
   "execution_count": 36,
   "metadata": {},
   "outputs": [
    {
     "name": "stdout",
     "output_type": "stream",
     "text": [
      "best parameters: {'C': 10, 'gamma': 0.001, 'kernel': 'rbf'}\n",
      "best score: 0.6266666666666666\n"
     ]
    }
   ],
   "source": [
    "print('best parameters:',grid.best_params_)\n",
    "print('best score:',grid.best_score_)"
   ]
  },
  {
   "cell_type": "code",
   "execution_count": 64,
   "metadata": {},
   "outputs": [
    {
     "data": {
      "text/plain": [
       "0.6833333333333333"
      ]
     },
     "execution_count": 64,
     "metadata": {},
     "output_type": "execute_result"
    }
   ],
   "source": [
    "y_pred_svc= grid.predict(test_x)\n",
    "accuracy_score(test_y,y_pred_svc)"
   ]
  },
  {
   "cell_type": "markdown",
   "metadata": {},
   "source": [
    "3. Decision Tree"
   ]
  },
  {
   "cell_type": "code",
   "execution_count": 65,
   "metadata": {},
   "outputs": [
    {
     "data": {
      "text/plain": [
       "GridSearchCV(cv=5, estimator=DecisionTreeClassifier(),\n",
       "             param_grid={'max_depth': [4, 60, 80, 100, 150, 200],\n",
       "                         'min_samples_split': [2, 3, 4]})"
      ]
     },
     "execution_count": 65,
     "metadata": {},
     "output_type": "execute_result"
    }
   ],
   "source": [
    "model_3= DecisionTreeClassifier()\n",
    "params_dec={'min_samples_split': [2, 3, 4],'max_depth':[4,60,80,100,150,200]}\n",
    "grid_dec= GridSearchCV(model_3,params_dec,cv=5)\n",
    "grid_dec.fit(train_x,train_y)"
   ]
  },
  {
   "cell_type": "code",
   "execution_count": 38,
   "metadata": {},
   "outputs": [
    {
     "name": "stdout",
     "output_type": "stream",
     "text": [
      "best parameter: {'max_depth': 100, 'min_samples_split': 4}\n",
      "best score: 0.52\n"
     ]
    }
   ],
   "source": [
    "print('best parameter:',grid_dec.best_params_)\n",
    "print('best score:',grid_dec.best_score_)"
   ]
  },
  {
   "cell_type": "code",
   "execution_count": 62,
   "metadata": {},
   "outputs": [
    {
     "name": "stdout",
     "output_type": "stream",
     "text": [
      "accuracy score using decision tree on testing data: 0.7166666666666667\n"
     ]
    }
   ],
   "source": [
    "y_pred1= grid_dec.predict(test_x)\n",
    "print('accuracy score using decision tree on testing data:', accuracy_score(test_y,y_pred1))"
   ]
  },
  {
   "cell_type": "markdown",
   "metadata": {},
   "source": [
    "4. Random Forest"
   ]
  },
  {
   "cell_type": "code",
   "execution_count": 40,
   "metadata": {},
   "outputs": [
    {
     "data": {
      "text/plain": [
       "GridSearchCV(estimator=RandomForestClassifier(),\n",
       "             param_grid={'n_estimators': range(100, 1000, 100)})"
      ]
     },
     "execution_count": 40,
     "metadata": {},
     "output_type": "execute_result"
    }
   ],
   "source": [
    "model_4= RandomForestClassifier()\n",
    "params_1= {'n_estimators': range(100,1000,100)}\n",
    "grid_2= GridSearchCV(model_4,params_1)\n",
    "grid_2.fit(train_x,train_y)"
   ]
  },
  {
   "cell_type": "code",
   "execution_count": 339,
   "metadata": {},
   "outputs": [
    {
     "data": {
      "text/html": [
       "<div>\n",
       "<style scoped>\n",
       "    .dataframe tbody tr th:only-of-type {\n",
       "        vertical-align: middle;\n",
       "    }\n",
       "\n",
       "    .dataframe tbody tr th {\n",
       "        vertical-align: top;\n",
       "    }\n",
       "\n",
       "    .dataframe thead th {\n",
       "        text-align: right;\n",
       "    }\n",
       "</style>\n",
       "<table border=\"1\" class=\"dataframe\">\n",
       "  <thead>\n",
       "    <tr style=\"text-align: right;\">\n",
       "      <th></th>\n",
       "      <th>mean_fit_time</th>\n",
       "      <th>std_fit_time</th>\n",
       "      <th>mean_score_time</th>\n",
       "      <th>std_score_time</th>\n",
       "      <th>param_n_estimators</th>\n",
       "      <th>params</th>\n",
       "      <th>split0_test_score</th>\n",
       "      <th>split1_test_score</th>\n",
       "      <th>split2_test_score</th>\n",
       "      <th>split3_test_score</th>\n",
       "      <th>split4_test_score</th>\n",
       "      <th>mean_test_score</th>\n",
       "      <th>std_test_score</th>\n",
       "      <th>rank_test_score</th>\n",
       "    </tr>\n",
       "  </thead>\n",
       "  <tbody>\n",
       "    <tr>\n",
       "      <th>0</th>\n",
       "      <td>0.530401</td>\n",
       "      <td>0.009866</td>\n",
       "      <td>0.01560</td>\n",
       "      <td>2.132481e-07</td>\n",
       "      <td>100</td>\n",
       "      <td>{'n_estimators': 100}</td>\n",
       "      <td>0.535714</td>\n",
       "      <td>0.642857</td>\n",
       "      <td>0.535714</td>\n",
       "      <td>0.535714</td>\n",
       "      <td>0.464286</td>\n",
       "      <td>0.542857</td>\n",
       "      <td>0.057143</td>\n",
       "      <td>1</td>\n",
       "    </tr>\n",
       "    <tr>\n",
       "      <th>1</th>\n",
       "      <td>1.026482</td>\n",
       "      <td>0.011674</td>\n",
       "      <td>0.03120</td>\n",
       "      <td>0.000000e+00</td>\n",
       "      <td>200</td>\n",
       "      <td>{'n_estimators': 200}</td>\n",
       "      <td>0.428571</td>\n",
       "      <td>0.500000</td>\n",
       "      <td>0.464286</td>\n",
       "      <td>0.571429</td>\n",
       "      <td>0.607143</td>\n",
       "      <td>0.514286</td>\n",
       "      <td>0.066240</td>\n",
       "      <td>7</td>\n",
       "    </tr>\n",
       "    <tr>\n",
       "      <th>2</th>\n",
       "      <td>1.535043</td>\n",
       "      <td>0.012480</td>\n",
       "      <td>0.04368</td>\n",
       "      <td>6.239963e-03</td>\n",
       "      <td>300</td>\n",
       "      <td>{'n_estimators': 300}</td>\n",
       "      <td>0.464286</td>\n",
       "      <td>0.571429</td>\n",
       "      <td>0.428571</td>\n",
       "      <td>0.535714</td>\n",
       "      <td>0.607143</td>\n",
       "      <td>0.521429</td>\n",
       "      <td>0.066240</td>\n",
       "      <td>3</td>\n",
       "    </tr>\n",
       "    <tr>\n",
       "      <th>3</th>\n",
       "      <td>2.052964</td>\n",
       "      <td>0.025347</td>\n",
       "      <td>0.05928</td>\n",
       "      <td>6.240106e-03</td>\n",
       "      <td>400</td>\n",
       "      <td>{'n_estimators': 400}</td>\n",
       "      <td>0.535714</td>\n",
       "      <td>0.571429</td>\n",
       "      <td>0.464286</td>\n",
       "      <td>0.500000</td>\n",
       "      <td>0.535714</td>\n",
       "      <td>0.521429</td>\n",
       "      <td>0.036422</td>\n",
       "      <td>3</td>\n",
       "    </tr>\n",
       "    <tr>\n",
       "      <th>4</th>\n",
       "      <td>2.564644</td>\n",
       "      <td>0.025347</td>\n",
       "      <td>0.07176</td>\n",
       "      <td>7.642333e-03</td>\n",
       "      <td>500</td>\n",
       "      <td>{'n_estimators': 500}</td>\n",
       "      <td>0.464286</td>\n",
       "      <td>0.535714</td>\n",
       "      <td>0.464286</td>\n",
       "      <td>0.500000</td>\n",
       "      <td>0.535714</td>\n",
       "      <td>0.500000</td>\n",
       "      <td>0.031944</td>\n",
       "      <td>9</td>\n",
       "    </tr>\n",
       "  </tbody>\n",
       "</table>\n",
       "</div>"
      ],
      "text/plain": [
       "   mean_fit_time  std_fit_time  mean_score_time  std_score_time  \\\n",
       "0       0.530401      0.009866          0.01560    2.132481e-07   \n",
       "1       1.026482      0.011674          0.03120    0.000000e+00   \n",
       "2       1.535043      0.012480          0.04368    6.239963e-03   \n",
       "3       2.052964      0.025347          0.05928    6.240106e-03   \n",
       "4       2.564644      0.025347          0.07176    7.642333e-03   \n",
       "\n",
       "  param_n_estimators                 params  split0_test_score  \\\n",
       "0                100  {'n_estimators': 100}           0.535714   \n",
       "1                200  {'n_estimators': 200}           0.428571   \n",
       "2                300  {'n_estimators': 300}           0.464286   \n",
       "3                400  {'n_estimators': 400}           0.535714   \n",
       "4                500  {'n_estimators': 500}           0.464286   \n",
       "\n",
       "   split1_test_score  split2_test_score  split3_test_score  split4_test_score  \\\n",
       "0           0.642857           0.535714           0.535714           0.464286   \n",
       "1           0.500000           0.464286           0.571429           0.607143   \n",
       "2           0.571429           0.428571           0.535714           0.607143   \n",
       "3           0.571429           0.464286           0.500000           0.535714   \n",
       "4           0.535714           0.464286           0.500000           0.535714   \n",
       "\n",
       "   mean_test_score  std_test_score  rank_test_score  \n",
       "0         0.542857        0.057143                1  \n",
       "1         0.514286        0.066240                7  \n",
       "2         0.521429        0.066240                3  \n",
       "3         0.521429        0.036422                3  \n",
       "4         0.500000        0.031944                9  "
      ]
     },
     "execution_count": 339,
     "metadata": {},
     "output_type": "execute_result"
    }
   ],
   "source": [
    "df_rand= pd.DataFrame(grid_2.cv_results_)\n",
    "df_rand.head()"
   ]
  },
  {
   "cell_type": "code",
   "execution_count": 41,
   "metadata": {},
   "outputs": [
    {
     "name": "stdout",
     "output_type": "stream",
     "text": [
      "{'n_estimators': 600}\n",
      "0.58\n"
     ]
    }
   ],
   "source": [
    "print(grid_2.best_params_)\n",
    "print(grid_2.best_score_)"
   ]
  },
  {
   "cell_type": "code",
   "execution_count": 66,
   "metadata": {},
   "outputs": [
    {
     "name": "stdout",
     "output_type": "stream",
     "text": [
      "accuracy score using random forest on testing data: 0.6666666666666666\n"
     ]
    }
   ],
   "source": [
    "y_pred_rand= grid_2.predict(test_x)\n",
    "print('accuracy score using random forest on testing data:',accuracy_score(test_y,y_pred_rand))"
   ]
  },
  {
   "cell_type": "markdown",
   "metadata": {},
   "source": [
    "5. Naive Bayes"
   ]
  },
  {
   "cell_type": "code",
   "execution_count": 43,
   "metadata": {},
   "outputs": [
    {
     "data": {
      "text/plain": [
       "GaussianNB()"
      ]
     },
     "execution_count": 43,
     "metadata": {},
     "output_type": "execute_result"
    }
   ],
   "source": [
    "model_5=GaussianNB()\n",
    "model_5.fit(train_x,train_y)"
   ]
  },
  {
   "cell_type": "code",
   "execution_count": 68,
   "metadata": {},
   "outputs": [
    {
     "name": "stdout",
     "output_type": "stream",
     "text": [
      "accuracy score on testing data: 0.48333333333333334\n"
     ]
    }
   ],
   "source": [
    "y_pred3=model_5.predict(test_x)\n",
    "print(\"accuracy score on testing data:\",accuracy_score(test_y,y_pred3))"
   ]
  },
  {
   "cell_type": "markdown",
   "metadata": {},
   "source": [
    "6. KNeighbors"
   ]
  },
  {
   "cell_type": "code",
   "execution_count": 45,
   "metadata": {},
   "outputs": [
    {
     "data": {
      "text/plain": [
       "KNeighborsClassifier()"
      ]
     },
     "execution_count": 45,
     "metadata": {},
     "output_type": "execute_result"
    }
   ],
   "source": [
    "model_6=KNeighborsClassifier()\n",
    "model_6.fit(train_x,train_y)"
   ]
  },
  {
   "cell_type": "code",
   "execution_count": 46,
   "metadata": {},
   "outputs": [
    {
     "name": "stdout",
     "output_type": "stream",
     "text": [
      "accuracy_score using KNeighborsClassifier: 0.54\n"
     ]
    }
   ],
   "source": [
    "y_pred4=model_6.predict(test_x)\n",
    "print(\"accuracy_score using KNeighborsClassifier:\",accuracy_score(test_y,y_pred4))"
   ]
  },
  {
   "cell_type": "markdown",
   "metadata": {},
   "source": [
    "USING BOOSTING ALGORITHMS"
   ]
  },
  {
   "cell_type": "code",
   "execution_count": 47,
   "metadata": {},
   "outputs": [
    {
     "data": {
      "text/plain": [
       "AdaBoostClassifier(base_estimator=DecisionTreeClassifier(), learning_rate=1,\n",
       "                   n_estimators=100)"
      ]
     },
     "execution_count": 47,
     "metadata": {},
     "output_type": "execute_result"
    }
   ],
   "source": [
    "dt= DecisionTreeClassifier()\n",
    "clf=  AdaBoostClassifier(n_estimators=100,base_estimator=dt,learning_rate=1)\n",
    "clf.fit(train_x,train_y)"
   ]
  },
  {
   "cell_type": "code",
   "execution_count": 48,
   "metadata": {},
   "outputs": [
    {
     "data": {
      "text/plain": [
       "0.74"
      ]
     },
     "execution_count": 48,
     "metadata": {},
     "output_type": "execute_result"
    }
   ],
   "source": [
    "y_pred_clf= clf.predict(test_x)\n",
    "accuracy_score(test_y,y_pred_clf)"
   ]
  },
  {
   "cell_type": "code",
   "execution_count": 49,
   "metadata": {},
   "outputs": [
    {
     "data": {
      "text/plain": [
       "0.66"
      ]
     },
     "execution_count": 49,
     "metadata": {},
     "output_type": "execute_result"
    }
   ],
   "source": [
    "clf_2=GradientBoostingClassifier(n_estimators=100)\n",
    "clf_2.fit(train_x,train_y)\n",
    "y_pred_clf_2= clf_2.predict(test_x)\n",
    "accuracy_score(test_y,y_pred_clf_2)"
   ]
  },
  {
   "cell_type": "code",
   "execution_count": 50,
   "metadata": {},
   "outputs": [
    {
     "data": {
      "text/plain": [
       "XGBClassifier(base_score=0.5, booster='gbtree', colsample_bylevel=1,\n",
       "              colsample_bynode=1, colsample_bytree=1, gamma=0, gpu_id=-1,\n",
       "              importance_type='gain', interaction_constraints='',\n",
       "              learning_rate=0.300000012, max_delta_step=0, max_depth=6,\n",
       "              min_child_weight=1, missing=nan, monotone_constraints='()',\n",
       "              n_estimators=100, n_jobs=0, num_parallel_tree=1, random_state=0,\n",
       "              reg_alpha=0, reg_lambda=1, scale_pos_weight=1, subsample=1,\n",
       "              tree_method='exact', validate_parameters=1, verbosity=None)"
      ]
     },
     "execution_count": 50,
     "metadata": {},
     "output_type": "execute_result"
    }
   ],
   "source": [
    "clf_3=XGBClassifier()\n",
    "clf_3.fit(train_x,train_y)"
   ]
  },
  {
   "cell_type": "code",
   "execution_count": 51,
   "metadata": {},
   "outputs": [
    {
     "data": {
      "text/plain": [
       "0.68"
      ]
     },
     "execution_count": 51,
     "metadata": {},
     "output_type": "execute_result"
    }
   ],
   "source": [
    "y_pred_clf_3= clf_3.predict(test_x)\n",
    "accuracy_score(test_y,y_pred_clf_3)"
   ]
  },
  {
   "cell_type": "markdown",
   "metadata": {},
   "source": [
    "Apart from the boosting algorithms, we found from using best scores of GridSeacrhCV of the remaining algorithms ,SVC has the heighest score."
   ]
  },
  {
   "cell_type": "markdown",
   "metadata": {},
   "source": [
    "# Evaluating our model "
   ]
  },
  {
   "cell_type": "code",
   "execution_count": 71,
   "metadata": {},
   "outputs": [
    {
     "data": {
      "text/plain": [
       "array([[11,  8],\n",
       "       [11, 30]], dtype=int64)"
      ]
     },
     "execution_count": 71,
     "metadata": {},
     "output_type": "execute_result"
    }
   ],
   "source": [
    "cm2=confusion_matrix(test_y,y_pred_svc)\n",
    "cm2"
   ]
  },
  {
   "cell_type": "code",
   "execution_count": 72,
   "metadata": {},
   "outputs": [
    {
     "data": {
      "text/plain": [
       "<AxesSubplot:>"
      ]
     },
     "execution_count": 72,
     "metadata": {},
     "output_type": "execute_result"
    },
    {
     "data": {
      "image/png": "[encoded data removed]",
      "text/plain": [
       "<Figure size 432x288 with 2 Axes>"
      ]
     },
     "metadata": {
      "needs_background": "light"
     },
     "output_type": "display_data"
    }
   ],
   "source": [
    "sns.heatmap(cm2,annot=True,square=True)"
   ]
  },
  {
   "cell_type": "code",
   "execution_count": 73,
   "metadata": {},
   "outputs": [
    {
     "data": {
      "text/plain": [
       "{'cat': {'precision': 0.5217391304347826,\n",
       "  'recall': 0.631578947368421,\n",
       "  'f1-score': 0.5714285714285715,\n",
       "  'support': 19},\n",
       " 'dog': {'precision': 0.8108108108108109,\n",
       "  'recall': 0.7317073170731707,\n",
       "  'f1-score': 0.7692307692307694,\n",
       "  'support': 41},\n",
       " 'accuracy': 0.7,\n",
       " 'macro avg': {'precision': 0.6662749706227967,\n",
       "  'recall': 0.6816431322207959,\n",
       "  'f1-score': 0.6703296703296704,\n",
       "  'support': 60},\n",
       " 'weighted avg': {'precision': 0.7192714453584018,\n",
       "  'recall': 0.7,\n",
       "  'f1-score': 0.7065934065934066,\n",
       "  'support': 60}}"
      ]
     },
     "execution_count": 73,
     "metadata": {},
     "output_type": "execute_result"
    }
   ],
   "source": [
    "classification_report(test_y,y_pred,output_dict=True)"
   ]
  },
  {
   "cell_type": "markdown",
   "metadata": {},
   "source": [
    "Prediction of a sample image using SVC-"
   ]
  },
  {
   "cell_type": "code",
   "execution_count": 74,
   "metadata": {},
   "outputs": [],
   "source": [
    "path_2= 'sample.jpg'\n",
    "i= imread(path_2)\n",
    "i= resize(i,(50,50,3))\n",
    "flat= i.flatten()\n",
    "flat=np.array(flat)"
   ]
  },
  {
   "cell_type": "code",
   "execution_count": 75,
   "metadata": {},
   "outputs": [
    {
     "name": "stdout",
     "output_type": "stream",
     "text": [
      "Predicted output is: ['cat']\n"
     ]
    }
   ],
   "source": [
    "print('Predicted output is:',model_1.predict([flat]))"
   ]
  },
  {
   "cell_type": "markdown",
   "metadata": {},
   "source": [
    "Image of our sample input-"
   ]
  },
  {
   "cell_type": "code",
   "execution_count": 76,
   "metadata": {},
   "outputs": [
    {
     "data": {
      "text/plain": [
       "<matplotlib.image.AxesImage at 0x1a01cc88>"
      ]
     },
     "execution_count": 76,
     "metadata": {},
     "output_type": "execute_result"
    },
    {
     "data": {
      "image/png": "[encoded data removed]",
      "text/plain": [
       "<Figure size 432x288 with 1 Axes>"
      ]
     },
     "metadata": {
      "needs_background": "light"
     },
     "output_type": "display_data"
    }
   ],
   "source": [
    "plt.imshow(i)"
   ]
  },
  {
   "cell_type": "markdown",
   "metadata": {},
   "source": [
    "As the sample image is a cat, this means that our model is working well."
   ]
  },
  {
   "cell_type": "code",
   "execution_count": null,
   "metadata": {},
   "outputs": [],
   "source": []
  }
 ],
 "metadata": {
  "kernelspec": {
   "display_name": "Python 3",
   "language": "python",
   "name": "python3"
  },
  "language_info": {
   "codemirror_mode": {
    "name": "ipython",
    "version": 3
   },
   "file_extension": ".py",
   "mimetype": "text/x-python",
   "name": "python",
   "nbconvert_exporter": "python",
   "pygments_lexer": "ipython3",
   "version": "3.7.5"
  }
 },
 "nbformat": 4,
 "nbformat_minor": 4
}
